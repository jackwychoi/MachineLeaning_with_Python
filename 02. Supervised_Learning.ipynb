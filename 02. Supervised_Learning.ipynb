{
 "cells": [
  {
   "cell_type": "markdown",
   "id": "2f86c143-2692-46b0-b9ac-fe16d08d85bb",
   "metadata": {},
   "source": [
    "# 지도 학습\n",
    "- 입력과 출력 샘플 데이터가 있고, 주어진 입력으로부터 출력을 예측하고자 할때 사용"
   ]
  },
  {
   "cell_type": "markdown",
   "id": "40e56af0-0e67-4b2a-b753-5acafd5aa788",
   "metadata": {},
   "source": [
    "## 분류\n",
    "- 미리 정의된, 가능성 있는 여러 클래스 레이블 중 하나를 예측하는 것\n",
    "- 딱 두 개의 클래스로 분류하는 이진 분류와 셋 이상의 클래스로 분류하는 다중 분류로 나뉨\n",
    "- 이진 분류는 질문의 답이 예/아니오만 나올 수 있도록 하는 것 (e.g. 이메일 에서 스팸 분류하는 것)\n",
    "- 예상 출력 값 사이에 연속성이 없다면 회귀 (e.g. 웹사이트의 글로부터 어떤 언어의 웹사이트인지를 예측 -> 어느 정도라는 것이 없음. 즉 웹사이트 언어는 한 언어가 아니면 다른 언어. 언어들 사이에는 어떠한 연속성이 없으므로 분류)"
   ]
  },
  {
   "cell_type": "markdown",
   "id": "1528881c-5805-4e2c-9ec8-73d4c95756fd",
   "metadata": {},
   "source": [
    "## 회귀\n",
    "- 연속적인 숫자, 또는 프로그래밍 용어로 말하면 부동소수점수를 예측 (e.g. 어떤 사람의 교육 수준, 나이, 주거지를 바탕으로 연간 소득을 예측)\n",
    "- 예상 출력 값 사이에 연속성이 있다면 회귀 (e.g. 어떤 사람이 1년에 4천만원을 벌지 3900만원을 벌지 예측하는 것은 회귀)"
   ]
  },
  {
   "cell_type": "markdown",
   "id": "6df1551f-f373-4b65-9e32-81dd2f38c754",
   "metadata": {},
   "source": [
    "## 일반화\n",
    "- 지도 학습에서는 훈련 데이터로 학습한 모델이 훈련 데이터와 특성이 같다면 처음 보는 새로운 데이터가 주어져도 정확히 예측할 거라 기대\n",
    "- 모델이 처음 보는 데이터에 대해 정확하게 예측할 수 있으면 이를 훈련 세트에서 테스트 세트로 일반화 되었다고 함\n",
    "- 모델을 만들 때는 가능한 한 정확하게 일반화되도록 해야 함"
   ]
  },
  {
   "cell_type": "markdown",
   "id": "3160e0e5-2d94-4bf9-bd59-97358bfd7472",
   "metadata": {},
   "source": [
    "## 과대적합\n",
    "- 가진 정보를 모두 사용해서 너무 복잡한 모델을 만드는 것\n",
    "- 모델이 훈련 세트의 각 샘플에 너무 가깝게 맞춰져서 새로운 데이터에 일반화되기 어려울 때 일어남"
   ]
  },
  {
   "cell_type": "markdown",
   "id": "ede9fa0d-fc82-4425-8738-503d150dcdde",
   "metadata": {},
   "source": [
    "## 과소적합\n",
    "- 모델이 너무 간단 (e.g. 집이 있는 사람은 모두 요트를 살 것)\n",
    "- 데이터의 면면과 다양성을 잡아내지 못할 것이고 훈련 세트에도 잘 맞지 않을 것"
   ]
  },
  {
   "cell_type": "markdown",
   "id": "5e8c93c9-9977-4665-8200-458b5e1fa575",
   "metadata": {},
   "source": [
    "# 데이터셋 생성"
   ]
  },
  {
   "cell_type": "code",
   "execution_count": 1,
   "id": "80fd6d68-e8b7-497c-9c5d-2a8b3c72142f",
   "metadata": {},
   "outputs": [],
   "source": [
    "import warnings\n",
    "warnings.filterwarnings('ignore')\n",
    "import matplotlib.pyplot as plt\n",
    "import mglearn"
   ]
  },
  {
   "cell_type": "code",
   "execution_count": 2,
   "id": "ccd43590-7fb8-4997-8096-8f5ff9b2aa9e",
   "metadata": {},
   "outputs": [
    {
     "data": {
      "text/plain": [
       "Text(0, 0.5, 'Second Characteristic')"
      ]
     },
     "execution_count": 2,
     "metadata": {},
     "output_type": "execute_result"
    },
    {
     "data": {
      "image/png": "[encoded data removed]",
      "text/plain": [
       "<Figure size 432x288 with 1 Axes>"
      ]
     },
     "metadata": {
      "needs_background": "light"
     },
     "output_type": "display_data"
    }
   ],
   "source": [
    "# 데이터셋 생성\n",
    "X, y = mglearn.datasets.make_forge()\n",
    "# 산점도 작성\n",
    "mglearn.discrete_scatter(X[:, 0], X[:, 1], y)\n",
    "plt.legend(['Class 0', 'Class 1'], loc=4)\n",
    "plt.xlabel('First Characteristic')\n",
    "plt.ylabel('Second Characteristic')"
   ]
  },
  {
   "cell_type": "code",
   "execution_count": 3,
   "id": "1e3d2bb7-a264-431a-b156-c5b83e025886",
   "metadata": {},
   "outputs": [
    {
     "name": "stdout",
     "output_type": "stream",
     "text": [
      "X.shape:  (26, 2)\n"
     ]
    }
   ],
   "source": [
    "print('X.shape: ', X.shape)"
   ]
  },
  {
   "cell_type": "markdown",
   "id": "f017264a-de3f-499d-a798-a468f5100af8",
   "metadata": {},
   "source": [
    "-> 데이터 포인트 26개와 특성 2개를 가진 데이터셋"
   ]
  },
  {
   "cell_type": "code",
   "execution_count": 4,
   "id": "1031b173-d910-4ef1-a366-36ec4b8e96ec",
   "metadata": {},
   "outputs": [
    {
     "data": {
      "image/png": "[encoded data removed]",
      "text/plain": [
       "<Figure size 432x288 with 1 Axes>"
      ]
     },
     "metadata": {
      "needs_background": "light"
     },
     "output_type": "display_data"
    }
   ],
   "source": [
    "X, y = mglearn.datasets.make_wave(n_samples=40)\n",
    "plt.plot(X, y, 'o')\n",
    "plt.ylim(-3, 3)\n",
    "plt.xlabel('Characteristic')\n",
    "plt.ylabel('Target');"
   ]
  },
  {
   "cell_type": "code",
   "execution_count": 5,
   "id": "5845de40-3c5d-4006-83c2-c7dfc5d6971b",
   "metadata": {},
   "outputs": [],
   "source": [
    "import numpy as np\n",
    "from sklearn.datasets import load_breast_cancer"
   ]
  },
  {
   "cell_type": "code",
   "execution_count": 6,
   "id": "05a8d071-229e-4071-8dd4-fd24c7cda73e",
   "metadata": {},
   "outputs": [
    {
     "name": "stdout",
     "output_type": "stream",
     "text": [
      "cancer.keys():\n",
      " dict_keys(['data', 'target', 'frame', 'target_names', 'DESCR', 'feature_names', 'filename', 'data_module'])\n"
     ]
    }
   ],
   "source": [
    "cancer = load_breast_cancer()\n",
    "print('cancer.keys():\\n', cancer.keys())"
   ]
  },
  {
   "cell_type": "code",
   "execution_count": 7,
   "id": "4e62f544-09a8-4272-8fc9-d0bf855ff78b",
   "metadata": {},
   "outputs": [
    {
     "name": "stdout",
     "output_type": "stream",
     "text": [
      "유방암 데이터의 형태:  (569, 30)\n"
     ]
    }
   ],
   "source": [
    "print('유방암 데이터의 형태: ', cancer.data.shape)"
   ]
  },
  {
   "cell_type": "markdown",
   "id": "0497abfe-6801-40d7-9b42-b50564bb5a6e",
   "metadata": {},
   "source": [
    "-> 569개의 데이터 포인트를 가지고 있고 특성은 30개"
   ]
  },
  {
   "cell_type": "code",
   "execution_count": 8,
   "id": "3a2deba6-7e48-46a8-b8d1-eee01f861258",
   "metadata": {},
   "outputs": [
    {
     "name": "stdout",
     "output_type": "stream",
     "text": [
      "클래스별 샘플 개수:\n",
      " {'malignant': 212, 'benign': 357}\n"
     ]
    }
   ],
   "source": [
    "print('클래스별 샘플 개수:\\n',\n",
    "     {n: v for n, v in zip(cancer.target_names, np.bincount(cancer.target))})"
   ]
  },
  {
   "cell_type": "markdown",
   "id": "b07bef5c-388d-4c9d-b59d-baa1b4b10de0",
   "metadata": {},
   "source": [
    "-> 212개는 악성이고 357개는 양성"
   ]
  },
  {
   "cell_type": "code",
   "execution_count": 9,
   "id": "47ad5e21-fa3c-4eb5-a645-c34d8e7897b5",
   "metadata": {},
   "outputs": [
    {
     "name": "stdout",
     "output_type": "stream",
     "text": [
      "특성 이름:\n",
      " ['mean radius' 'mean texture' 'mean perimeter' 'mean area'\n",
      " 'mean smoothness' 'mean compactness' 'mean concavity'\n",
      " 'mean concave points' 'mean symmetry' 'mean fractal dimension'\n",
      " 'radius error' 'texture error' 'perimeter error' 'area error'\n",
      " 'smoothness error' 'compactness error' 'concavity error'\n",
      " 'concave points error' 'symmetry error' 'fractal dimension error'\n",
      " 'worst radius' 'worst texture' 'worst perimeter' 'worst area'\n",
      " 'worst smoothness' 'worst compactness' 'worst concavity'\n",
      " 'worst concave points' 'worst symmetry' 'worst fractal dimension']\n"
     ]
    }
   ],
   "source": [
    "# feature_names의 속성 확인\n",
    "print('특성 이름:\\n', cancer.feature_names)"
   ]
  },
  {
   "cell_type": "code",
   "execution_count": 10,
   "id": "21c9544b-efc0-462a-8288-a465ae87731b",
   "metadata": {},
   "outputs": [
    {
     "name": "stdout",
     "output_type": "stream",
     "text": [
      "데이터의 형태:  (506, 13)\n"
     ]
    }
   ],
   "source": [
    "from sklearn.datasets import load_boston\n",
    "\n",
    "boston = load_boston()\n",
    "print('데이터의 형태: ', boston.data.shape)"
   ]
  },
  {
   "cell_type": "code",
   "execution_count": 11,
   "id": "d586085d-23e9-41a5-83cc-9eb62c8b1bc9",
   "metadata": {},
   "outputs": [
    {
     "name": "stdout",
     "output_type": "stream",
     "text": [
      "X.shape:  (506, 104)\n"
     ]
    }
   ],
   "source": [
    "X, y = mglearn.datasets.load_extended_boston()\n",
    "print('X.shape: ', X.shape)"
   ]
  },
  {
   "cell_type": "markdown",
   "id": "42ba22ad-c420-4126-8f44-e6c1e927ecef",
   "metadata": {},
   "source": [
    "## k-최근접 이웃\n",
    "- 가장 간단한 머신러닝 알고리즘으로서, 훈련 데이터셋을 그냥 저장하는 것이 모델을 만드는 과정의 전부\n",
    "- 새로운 데이터 포인트에 대해 예측할 때 알고리즘이 훈련 데이터셋에서 가장 가까운 데이터 포인트인 '최근접 이웃'을 서칭"
   ]
  },
  {
   "cell_type": "code",
   "execution_count": 12,
   "id": "4eae5e69-f5c0-4401-b65c-fc183879b317",
   "metadata": {},
   "outputs": [
    {
     "data": {
      "image/png": "[encoded data removed]",
      "text/plain": [
       "<Figure size 432x288 with 1 Axes>"
      ]
     },
     "metadata": {
      "needs_background": "light"
     },
     "output_type": "display_data"
    }
   ],
   "source": [
    "mglearn.plots.plot_knn_classification(n_neighbors=1)"
   ]
  },
  {
   "cell_type": "code",
   "execution_count": 13,
   "id": "891a6a9f-7750-4496-b075-78e5e5ac49a4",
   "metadata": {},
   "outputs": [
    {
     "data": {
      "image/png": "[encoded data removed]",
      "text/plain": [
       "<Figure size 432x288 with 1 Axes>"
      ]
     },
     "metadata": {
      "needs_background": "light"
     },
     "output_type": "display_data"
    }
   ],
   "source": [
    "mglearn.plots.plot_knn_classification(n_neighbors=3)"
   ]
  },
  {
   "cell_type": "code",
   "execution_count": 14,
   "id": "64ecb40e-e2dc-4136-9f51-6be014fff649",
   "metadata": {},
   "outputs": [],
   "source": [
    "from sklearn.model_selection import train_test_split\n",
    "\n",
    "# Devide into train and test sets\n",
    "X, y = mglearn.datasets.make_forge()\n",
    "X_train, X_test, y_train, y_test = train_test_split(X, y, random_state=0)"
   ]
  },
  {
   "cell_type": "code",
   "execution_count": 15,
   "id": "2068ccf9-5e60-4190-83c2-1c93917a5bbe",
   "metadata": {},
   "outputs": [],
   "source": [
    "from sklearn.neighbors import KNeighborsClassifier\n",
    "\n",
    "clf = KNeighborsClassifier(n_neighbors=3)"
   ]
  },
  {
   "cell_type": "code",
   "execution_count": null,
   "id": "82e3b84e-f7ab-4f52-8a50-9adeb1189c16",
   "metadata": {},
   "outputs": [],
   "source": []
  }
 ],
 "metadata": {
  "kernelspec": {
   "display_name": "Python 3 (ipykernel)",
   "language": "python",
   "name": "python3"
  },
  "language_info": {
   "codemirror_mode": {
    "name": "ipython",
    "version": 3
   },
   "file_extension": ".py",
   "mimetype": "text/x-python",
   "name": "python",
   "nbconvert_exporter": "python",
   "pygments_lexer": "ipython3",
   "version": "3.9.7"
  }
 },
 "nbformat": 4,
 "nbformat_minor": 5
}
