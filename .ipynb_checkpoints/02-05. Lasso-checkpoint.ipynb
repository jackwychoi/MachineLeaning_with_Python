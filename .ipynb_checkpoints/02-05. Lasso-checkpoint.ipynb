{
 "cells": [
  {
   "cell_type": "markdown",
   "id": "2fdbcaa7-0631-4080-97e2-57c361e24d68",
   "metadata": {},
   "source": [
    "## 라소\n",
    "- 리지 회귀에서와 같이 계수를 0에 가깝게 만들려고 함\n",
    "- L1 규제의 결과로 라소를 사용할때 어떤 계수는 정말 0이 됨 -> 모델에서 완전히 제외되는 특성이 생긴다는 뜻\n",
    "- 일부 계수를 0으로 만들면 모델을 이해하기 쉬워지고 이 모델의 가장 중요한 특성이 무엇인지 드러냄\n",
    "- L1 규제: 라소는 계수 벡터의 L1 노름을 페널티로 사용 -> 다른 말로 하면 계수의 절댓값의 합"
   ]
  },
  {
   "cell_type": "code",
   "execution_count": 1,
   "id": "939aedbd-b578-4fcd-aecc-03740803571f",
   "metadata": {},
   "outputs": [],
   "source": [
    "import warnings\n",
    "warnings.filterwarnings('ignore')\n",
    "import numpy as np\n",
    "import matplotlib.pyplot as plt\n",
    "import mglearn"
   ]
  },
  {
   "cell_type": "code",
   "execution_count": 2,
   "id": "af3057b7-b30c-45e2-8159-ea489c4c111a",
   "metadata": {},
   "outputs": [],
   "source": [
    "from sklearn.model_selection import train_test_split\n",
    "X, y = mglearn.datasets.load_extended_boston()\n",
    "\n",
    "X_train, X_test, y_train, y_test = train_test_split(X, y, random_state=0)"
   ]
  },
  {
   "cell_type": "code",
   "execution_count": 3,
   "id": "56835434-7794-4521-aeaf-000d33d0d088",
   "metadata": {},
   "outputs": [
    {
     "name": "stdout",
     "output_type": "stream",
     "text": [
      "LinearRegression 훈련 세트 점수: 0.95\n",
      "LinearRegression 테스트 세트 점수: 0.61\n",
      "LinearRegression 사용한 특성의 개수:  104\n",
      "Ridge 훈련 세트 점수: 0.89\n",
      "Ridge 테스트 세트 점수: 0.75\n",
      "Ridge 사용한 특성의 개수:  104\n",
      "Lasso 훈련 세트 점수: 0.29\n",
      "Lasso 테스트 세트 점수: 0.21\n",
      "Lasso 사용한 특성의 개수:  4\n"
     ]
    }
   ],
   "source": [
    "from sklearn.linear_model import LinearRegression\n",
    "from sklearn.linear_model import Ridge\n",
    "from sklearn.linear_model import Lasso\n",
    "\n",
    "\n",
    "lr = LinearRegression().fit(X_train, y_train) \n",
    "ridge = Ridge().fit(X_train, y_train)\n",
    "lasso = Lasso().fit(X_train, y_train)\n",
    "print('LinearRegression 훈련 세트 점수: {:.2f}'.format(lr.score(X_train, y_train)))\n",
    "print('LinearRegression 테스트 세트 점수: {:.2f}'.format(lr.score(X_test, y_test)))\n",
    "print('LinearRegression 사용한 특성의 개수: ', np.sum(lr.coef_ != 0))\n",
    "print('Ridge 훈련 세트 점수: {:.2f}'.format(ridge.score(X_train, y_train)))\n",
    "print('Ridge 테스트 세트 점수: {:.2f}'.format(ridge.score(X_test, y_test)))\n",
    "print('Ridge 사용한 특성의 개수: ', np.sum(ridge.coef_ != 0))\n",
    "print('Lasso 훈련 세트 점수: {:.2f}'.format(lasso.score(X_train, y_train)))\n",
    "print('Lasso 테스트 세트 점수: {:.2f}'.format(lasso.score(X_test, y_test)))\n",
    "print('Lasso 사용한 특성의 개수: ', np.sum(lasso.coef_ != 0))"
   ]
  },
  {
   "cell_type": "markdown",
   "id": "6919e18c-b55d-4286-9625-77d0045b70f7",
   "metadata": {},
   "source": [
    "### Lasso:\n",
    "- 훈련 세트와 테스트 세트 모두에서 결과가 좋지 않음 -> 과소적합\n",
    "- 104개의 특성 중 4개만 사용함\n",
    "- Ridge와 마찬가지로 계수를 얼마나 강하게 0으로 보낼지를 조절하는 alpha 매개변수 지원\n",
    "- alpha 값을 줄이려면 max_iter(반복 실행하는 최대 횟수)의 기본값을 늘려야 함\n",
    "- Lasso는 L1, L2 규제를 함께 쓰는 엘라스틱넷 방식에서 L2 규제가 빠진 것"
   ]
  },
  {
   "cell_type": "code",
   "execution_count": 4,
   "id": "fcc2cfa5-f1ff-4bd1-bc38-0afe6dee6b5c",
   "metadata": {},
   "outputs": [
    {
     "name": "stdout",
     "output_type": "stream",
     "text": [
      "훈련 세트 점수: 0.90\n",
      "테스트 세트 점수: 0.77\n",
      "사용한 특성의 개수:  33\n"
     ]
    }
   ],
   "source": [
    "# max_iter 기본값을 증가시키지 않으면 max_iter 값을 늘리라는 경고 발생\n",
    "lasso001 = Lasso(alpha=0.01, max_iter=50000).fit(X_train, y_train)\n",
    "print('훈련 세트 점수: {:.2f}'.format(lasso001.score(X_train, y_train)))\n",
    "print('테스트 세트 점수: {:.2f}'.format(lasso001.score(X_test, y_test)))\n",
    "print('사용한 특성의 개수: ', np.sum(lasso001.coef_ != 0))"
   ]
  },
  {
   "cell_type": "markdown",
   "id": "f0950ca9-8ef2-4256-b3cd-c6cbed491f5c",
   "metadata": {},
   "source": [
    "- alpha 값을 낮추면 모델의 복잡도는 증가하여 훈련 세트와 테스트 세트의 성능이 좋아짐\n",
    "- 성능은 Ridge보다 조금 나은데 사용된 특성은 104개 중 33개뿐이어서, 모델을 분석하기가 조금 더 수월\n",
    "- alpha 값을 너무 낮추면 규제의 효과가 없어져 과대적합이 되므로 LinearRegression의 결과와 비슷해짐"
   ]
  },
  {
   "cell_type": "code",
   "execution_count": 5,
   "id": "890e216e-9e50-4a89-9102-467368d3bfa3",
   "metadata": {},
   "outputs": [
    {
     "name": "stdout",
     "output_type": "stream",
     "text": [
      "훈련 세트 점수: 0.95\n",
      "테스트 세트 점수: 0.64\n",
      "사용한 특성의 개수:  96\n"
     ]
    }
   ],
   "source": [
    "lasso00001 = Lasso(alpha=0.0001, max_iter=50000).fit(X_train, y_train)\n",
    "print('훈련 세트 점수: {:.2f}'.format(lasso00001.score(X_train, y_train)))\n",
    "print('테스트 세트 점수: {:.2f}'.format(lasso00001.score(X_test, y_test)))\n",
    "print('사용한 특성의 개수: ', np.sum(lasso00001.coef_ != 0))"
   ]
  },
  {
   "cell_type": "code",
   "execution_count": 6,
   "id": "41d68fc2-ef9d-46f5-8a08-bb19ef1b1313",
   "metadata": {},
   "outputs": [
    {
     "data": {
      "image/png": "[encoded data removed]",
      "text/plain": [
       "<Figure size 432x288 with 1 Axes>"
      ]
     },
     "metadata": {
      "needs_background": "light"
     },
     "output_type": "display_data"
    }
   ],
   "source": [
    "# 비교용 Ridge alpha 0.1 값으로 생성\n",
    "ridge01 = Ridge(alpha=0.1).fit(X_train, y_train)\n",
    "\n",
    "plt.plot(lasso.coef_, 's', label='Lasso alpha=1')\n",
    "plt.plot(lasso001.coef_, '^', label='Lasso alpha=0.01')\n",
    "plt.plot(lasso00001.coef_, 'v', label='Lasso alpha=0.0001')\n",
    "\n",
    "plt.plot(ridge01.coef_, 'o', label='Ridge alpha=0.1')\n",
    "plt.legend(ncol=2, loc=(0, 1.05))\n",
    "plt.ylim(-25, 25)\n",
    "plt.xlabel('Coefficient List')\n",
    "plt.ylabel('Coefficient Size');"
   ]
  },
  {
   "cell_type": "markdown",
   "id": "c32985a6-e7e0-4718-befe-8e40626b997f",
   "metadata": {},
   "source": [
    "- alpha=1 일때 계수 대부분이 0일 뿐만 아니라 나머지 계수들도 크기가 작은 것을 확인 가능\n",
    "- 0.01로 줄이면 대부분의 특성이 0이 되는 분포를 얻게 됨\n",
    "- 0.001이 되면 계수 대부분이 0이 아니고 값이 커져 꽤 규제받지 않는 모델을 얻게 됨\n",
    "- alpha=0.1인 Ridge 모델은 alpha=0.01인 Lasso 모델과 성능이 비슷하지만 Ridge를 사용하면 어떤 계수도 0이 되지 않음\n",
    "- Ridge와 Lasso 중 보통은 Ridge를 선호하지만 특성이 많고 그중 일부분만 중요하다면 Lasso가 더 좋은 선택일 수 있음\n",
    "- 분석하기 쉬운 모델을 원한다면 Lasso가 입력 특성 중 일부만 사용하므로 쉽게 해석할 수 있는 모델을 만들어줄 것"
   ]
  }
 ],
 "metadata": {
  "kernelspec": {
   "display_name": "Python 3 (ipykernel)",
   "language": "python",
   "name": "python3"
  },
  "language_info": {
   "codemirror_mode": {
    "name": "ipython",
    "version": 3
   },
   "file_extension": ".py",
   "mimetype": "text/x-python",
   "name": "python",
   "nbconvert_exporter": "python",
   "pygments_lexer": "ipython3",
   "version": "3.9.7"
  }
 },
 "nbformat": 4,
 "nbformat_minor": 5
}
